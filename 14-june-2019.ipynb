{
 "cells": [
  {
   "cell_type": "markdown",
   "metadata": {},
   "source": [
    "### Problem Solving and Programming in Python-Day-4\n",
    "\n",
    "### date: 14 june 2019\n",
    "\n",
    "### Day Objectivies\n",
    "- Python Data Structures-Lists,Tuples and Dictionaries\n",
    "- Basic Operations on data structures\n",
    "- Advanced Problem Set\n",
    "- Packages and Modules in Python"
   ]
  },
  {
   "cell_type": "code",
   "execution_count": null,
   "metadata": {},
   "outputs": [],
   "source": []
  },
  {
   "cell_type": "markdown",
   "metadata": {},
   "source": [
    "### Python Data Structures\n",
    "\n",
    "## Lists"
   ]
  },
  {
   "cell_type": "code",
   "execution_count": 12,
   "metadata": {},
   "outputs": [
    {
     "data": {
      "text/plain": [
       "1"
      ]
     },
     "execution_count": 12,
     "metadata": {},
     "output_type": "execute_result"
    }
   ],
   "source": [
    "li=[123,456,347,756]\n",
    "\n",
    "li # Access the entire list\n",
    "\n",
    "li[1:-1] # Accessing all elements except first and last element\n",
    "\n",
    "li[1:] # from second element to last element\n",
    "\n",
    "li[-1::-1] # for reversing\n",
    "\n",
    "li=li[::-1]# for reversing \n",
    "\n",
    "li\n",
    "\n",
    "li=li[::-1]\n",
    "\n",
    "li[::2] # Accessing even index elements\n",
    "\n",
    "li[1::2] #Accessing odd index elements\n",
    "\n",
    "#lists can be accessed ,manipulated in two different ways\n",
    "    # Direct Referencing-Accessing througn [index]\n",
    "    # Indirect Referencing-Accessing through functions\n",
    "\n",
    "            \n",
    "li.append(3) #Adding an element to end of the list\n",
    "\n",
    "li.insert(1,21) # Adding an element at a particular place\n",
    "\n",
    "li.sort() # Sorting elements in ascending order\n",
    "\n",
    "li.pop() # Remove the last element in a list\n",
    "\n",
    "li.pop(2) # remove the element at a particular index\n",
    "\n",
    "li2=[1,4,5,6]\n",
    "\n",
    "li.index(4)\n",
    "\n",
    "li.extend(li2) # Merging list2 into list1\n",
    "\n",
    "li\n",
    "\n",
    "sum(li) # Sum of all elements\n",
    "\n",
    "max(li) # Max element in a list\n",
    "\n",
    "min(li) # Min element in a list\n",
    "\n",
    "len(li) # Accessing length of the list\n",
    "\n",
    "sum(li)/len(li) # Average of the list\n",
    "\n",
    "# Avaerage of all alternative elements\n",
    "\n",
    "\n",
    "sum(li[1::2])/len(li[1::2]) # Average of all odd index elements\n",
    "\n",
    "sum(li[::2])/len(li[::2]) # Avearage of all even index elements\n",
    "\n",
    "\n",
    "\n",
    "# Function to identify 2 nd largest element in a list\n",
    "s=[24,56,55,33,22,1]\n",
    "def secondlargest(s):\n",
    "    s.sort()\n",
    "    return s[-2] \n",
    "def genericlargest(s,n):\n",
    "    s.sort()\n",
    "    return s[-6]\n",
    "secondlargest(s)\n",
    "genericlargest(s,3)\n",
    "\n",
    "    "
   ]
  },
  {
   "cell_type": "code",
   "execution_count": 9,
   "metadata": {},
   "outputs": [
    {
     "data": {
      "text/plain": [
       "1"
      ]
     },
     "execution_count": 9,
     "metadata": {},
     "output_type": "execute_result"
    }
   ],
   "source": [
    "# Function to search for data in a list\n",
    "s=[1,3,4,56,78]\n",
    "def linearsearch(s,key):\n",
    "        for i in range(0,len(s)):\n",
    "            if s[i]==key:\n",
    "                return i\n",
    "        return -1\n",
    "def linearsearch2(s,key):\n",
    "    for element in s:\n",
    "        if element==key:\n",
    "            return s.index(element)\n",
    "    reurn -1\n",
    "def linearsearch3(s,key):\n",
    "    if key in s:\n",
    "        return s.index(key)\n",
    "    return -1\n",
    "linearsearch3(s,3)\n",
    "    "
   ]
  },
  {
   "cell_type": "code",
   "execution_count": 3,
   "metadata": {},
   "outputs": [
    {
     "data": {
      "text/plain": [
       "3"
      ]
     },
     "execution_count": 3,
     "metadata": {},
     "output_type": "execute_result"
    }
   ],
   "source": [
    "# Function to count the occurances of a character in a string\n",
    "\n",
    "s=\"deviii\"\n",
    "def search(s,key):\n",
    "    count=0\n",
    "    for i in range(0,len(s)):\n",
    "        if s[i]==key:\n",
    "            count=count+1\n",
    "    return count\n",
    "def countofelements(s,key):\n",
    "    return s.count(key)\n",
    "\n",
    "countofelements(s,\"i\")\n",
    "\n",
    "\n"
   ]
  },
  {
   "cell_type": "code",
   "execution_count": 5,
   "metadata": {},
   "outputs": [
    {
     "ename": "TypeError",
     "evalue": "can only concatenate str (not \"int\") to str",
     "output_type": "error",
     "traceback": [
      "\u001b[1;31m---------------------------------------------------------------------------\u001b[0m",
      "\u001b[1;31mTypeError\u001b[0m                                 Traceback (most recent call last)",
      "\u001b[1;32m<ipython-input-5-f6c164aee08a>\u001b[0m in \u001b[0;36m<module>\u001b[1;34m\u001b[0m\n\u001b[0;32m      9\u001b[0m \u001b[1;33m\u001b[0m\u001b[0m\n\u001b[0;32m     10\u001b[0m     \u001b[1;32mreturn\u001b[0m \u001b[0mcount\u001b[0m\u001b[1;33m\u001b[0m\u001b[1;33m\u001b[0m\u001b[0m\n\u001b[1;32m---> 11\u001b[1;33m \u001b[0mnoofoccurancessubstring\u001b[0m\u001b[1;33m(\u001b[0m\u001b[0ms\u001b[0m\u001b[1;33m,\u001b[0m\u001b[1;34m\"de\"\u001b[0m\u001b[1;33m)\u001b[0m\u001b[1;33m\u001b[0m\u001b[1;33m\u001b[0m\u001b[0m\n\u001b[0m",
      "\u001b[1;32m<ipython-input-5-f6c164aee08a>\u001b[0m in \u001b[0;36mnoofoccurancessubstring\u001b[1;34m(s, key)\u001b[0m\n\u001b[0;32m      4\u001b[0m     \u001b[0mcount\u001b[0m\u001b[1;33m=\u001b[0m\u001b[1;36m0\u001b[0m\u001b[1;33m\u001b[0m\u001b[1;33m\u001b[0m\u001b[0m\n\u001b[0;32m      5\u001b[0m     \u001b[1;32mfor\u001b[0m \u001b[0mi\u001b[0m \u001b[1;32min\u001b[0m \u001b[0ms\u001b[0m\u001b[1;33m:\u001b[0m\u001b[1;33m\u001b[0m\u001b[1;33m\u001b[0m\u001b[0m\n\u001b[1;32m----> 6\u001b[1;33m         \u001b[0ml\u001b[0m\u001b[1;33m=\u001b[0m\u001b[0ms\u001b[0m\u001b[1;33m[\u001b[0m\u001b[1;36m0\u001b[0m\u001b[1;33m:\u001b[0m\u001b[0mi\u001b[0m\u001b[1;33m+\u001b[0m\u001b[1;36m1\u001b[0m\u001b[1;33m]\u001b[0m\u001b[1;33m\u001b[0m\u001b[1;33m\u001b[0m\u001b[0m\n\u001b[0m\u001b[0;32m      7\u001b[0m         \u001b[1;32mif\u001b[0m \u001b[0ml\u001b[0m\u001b[1;33m==\u001b[0m \u001b[0mkey\u001b[0m\u001b[1;33m:\u001b[0m\u001b[1;33m\u001b[0m\u001b[1;33m\u001b[0m\u001b[0m\n\u001b[0;32m      8\u001b[0m             \u001b[0mcount\u001b[0m\u001b[1;33m=\u001b[0m\u001b[0mcount\u001b[0m\u001b[1;33m+\u001b[0m\u001b[1;36m1\u001b[0m\u001b[1;33m\u001b[0m\u001b[1;33m\u001b[0m\u001b[0m\n",
      "\u001b[1;31mTypeError\u001b[0m: can only concatenate str (not \"int\") to str"
     ]
    }
   ],
   "source": [
    "#Function to find the no of occurances of a sub string\n",
    "s=\"devidevi\"\n",
    "def noofoccurancessubstring(s,key):\n",
    "    count=0\n",
    "    for i in s:\n",
    "        l=s[0:i+1]\n",
    "        if l== key:\n",
    "            count=count+1\n",
    "        \n",
    "    return count\n",
    "noofoccurancessubstring(s,\"de\")"
   ]
  },
  {
   "cell_type": "code",
   "execution_count": 4,
   "metadata": {},
   "outputs": [
    {
     "data": {
      "text/plain": [
       "1"
      ]
     },
     "execution_count": 4,
     "metadata": {},
     "output_type": "execute_result"
    }
   ],
   "source": [
    "s=\"devidevi\"\n",
    "s.count(\"de\")\n",
    "s[0:1]\n",
    "n=5\n",
    "(n%2)"
   ]
  },
  {
   "cell_type": "code",
   "execution_count": 4,
   "metadata": {},
   "outputs": [
    {
     "data": {
      "text/plain": [
       "[1, 2, 34, 5]"
      ]
     },
     "execution_count": 4,
     "metadata": {},
     "output_type": "execute_result"
    }
   ],
   "source": [
    "s=\"1 2 34 5\"\n",
    "li=s.split()\n",
    "nli=[]\n",
    "for i in  li:\n",
    "    nli.append(int(i))\n",
    "nli"
   ]
  },
  {
   "cell_type": "code",
   "execution_count": null,
   "metadata": {},
   "outputs": [],
   "source": []
  },
  {
   "cell_type": "markdown",
   "metadata": {},
   "source": [
    "## Practice Test"
   ]
  },
  {
   "cell_type": "code",
   "execution_count": 2,
   "metadata": {},
   "outputs": [
    {
     "name": "stdout",
     "output_type": "stream",
     "text": [
      "3\n"
     ]
    },
    {
     "data": {
      "text/plain": [
       "14"
      ]
     },
     "execution_count": 2,
     "metadata": {},
     "output_type": "execute_result"
    }
   ],
   "source": [
    "\n",
    "n=int(input())\n",
    "def sumOfSquareOfNaturalNum(n):\n",
    "    sum=0\n",
    "    for i in range(1,n+1):\n",
    "        sum=sum+i**2\n",
    "    return sum\n",
    "sumOfSquareOfNaturalNum(n)"
   ]
  },
  {
   "cell_type": "code",
   "execution_count": 5,
   "metadata": {},
   "outputs": [
    {
     "name": "stdout",
     "output_type": "stream",
     "text": [
      "1\n",
      "3\n",
      "4\n"
     ]
    },
    {
     "data": {
      "text/plain": [
       "4"
      ]
     },
     "execution_count": 5,
     "metadata": {},
     "output_type": "execute_result"
    }
   ],
   "source": [
    "a=int(input())\n",
    "b=int(input())\n",
    "c=int(input())\n",
    "def greatest(a,b,c):\n",
    "    if a>b and a>c:\n",
    "        return a\n",
    "    elif b>c:\n",
    "        return b\n",
    "    else:\n",
    "        return c\n",
    "n=greatest(a,b,c)\n",
    "def calgreatest(n):\n",
    "    if n<=c:\n",
    "        if n%a==b:\n",
    "            return n\n",
    "        n=n-1\n",
    "    else:\n",
    "        return -1\n",
    "greatest(a,b,c)\n"
   ]
  },
  {
   "cell_type": "code",
   "execution_count": null,
   "metadata": {},
   "outputs": [],
   "source": []
  }
 ],
 "metadata": {
  "kernelspec": {
   "display_name": "Python 3",
   "language": "python",
   "name": "python3"
  },
  "language_info": {
   "codemirror_mode": {
    "name": "ipython",
    "version": 3
   },
   "file_extension": ".py",
   "mimetype": "text/x-python",
   "name": "python",
   "nbconvert_exporter": "python",
   "pygments_lexer": "ipython3",
   "version": "3.7.3"
  }
 },
 "nbformat": 4,
 "nbformat_minor": 2
}
