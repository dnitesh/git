{
 "cells": [
  {
   "cell_type": "markdown",
   "metadata": {},
   "source": [
    "### Problem Solving and Programming\n",
    "\n",
    "### 12-june-2019\n",
    "\n",
    "### Day Objectivies\n",
    "\n",
    "- String Slicing\n",
    "- Functions in python\n",
    "- Basic Problems related to conditional statements using functions\n",
    "- Iterations in python"
   ]
  },
  {
   "cell_type": "code",
   "execution_count": null,
   "metadata": {},
   "outputs": [],
   "source": []
  },
  {
   "cell_type": "markdown",
   "metadata": {},
   "source": [
    "## String Slicing"
   ]
  },
  {
   "cell_type": "code",
   "execution_count": 90,
   "metadata": {},
   "outputs": [
    {
     "data": {
      "text/plain": [
       "'ht'"
      ]
     },
     "execution_count": 90,
     "metadata": {},
     "output_type": "execute_result"
    }
   ],
   "source": [
    "s1=\"python\"\n",
    "s1[0]#printing first character\n",
    "s1[0:3]# printing first 3 characters\n",
    "s1[len(s1)-1]# Printing last character\n",
    "s1[-1] #printing last character\n",
    "s1[-2] #printing penultimate character\n",
    "s1[0:2]\n",
    "s1[-2:] # printing last two characters\n",
    "s1[3:] #printing all characters from 3 th to end of the string\n",
    "s1[1:-1] # printing all characters expect the first and last characters\n",
    "s1[len(s1)//2] #// is used to dividing but it will give the integer value not float value\n",
    "s1[::-1]#printing the reverse of the string\n",
    "s1[-1::-1]#printing the reverse of the string\n",
    "s1[-1:-3:-1]#printing last two characters\n",
    "s1[0::2]\n",
    "s1[::2]\n",
    "s1[::-2]\n",
    "s1[-1::-2]\n",
    "s1[len(s1)//2:len(s1)//2-2:-1]"
   ]
  },
  {
   "cell_type": "code",
   "execution_count": 37,
   "metadata": {},
   "outputs": [
    {
     "data": {
      "text/plain": [
       "61"
      ]
     },
     "execution_count": 37,
     "metadata": {},
     "output_type": "execute_result"
    }
   ],
   "source": [
    "s1=123\n",
    "s1//2"
   ]
  },
  {
   "cell_type": "code",
   "execution_count": 54,
   "metadata": {},
   "outputs": [
    {
     "name": "stdout",
     "output_type": "stream",
     "text": [
      "b\n",
      "g\n",
      "bc\n",
      "bcdef\n",
      "abc\n",
      "cdefg\n",
      "abcdef\n",
      "aceg\n",
      "bdf\n",
      "gfedcba\n"
     ]
    }
   ],
   "source": [
    "s = 'abcdefg'\n",
    "print(s[1])\n",
    "print(s[-1])\n",
    "print(s[1:3])\n",
    "print(s[1:-1])\n",
    "print(s[:3])\n",
    "print(s[2:])\n",
    "print(s[:-1])\n",
    "print(s[::2])\n",
    "print(s[1::2])\n",
    "print(s[::-1])"
   ]
  },
  {
   "cell_type": "code",
   "execution_count": null,
   "metadata": {},
   "outputs": [],
   "source": []
  },
  {
   "cell_type": "markdown",
   "metadata": {},
   "source": [
    "### Functions"
   ]
  },
  {
   "cell_type": "code",
   "execution_count": 97,
   "metadata": {},
   "outputs": [
    {
     "data": {
      "text/plain": [
       "'nohtyP'"
      ]
     },
     "execution_count": 97,
     "metadata": {},
     "output_type": "execute_result"
    }
   ],
   "source": [
    "# Function to reverse a string\n",
    "def reverseString(s):\n",
    "    return s[::-1]\n",
    "reverseString(\"Python\")"
   ]
  },
  {
   "cell_type": "code",
   "execution_count": 99,
   "metadata": {},
   "outputs": [
    {
     "data": {
      "text/plain": [
       "True"
      ]
     },
     "execution_count": 99,
     "metadata": {},
     "output_type": "execute_result"
    }
   ],
   "source": [
    "#Function to check if a string is a palindrome\n",
    "def palindrome(s):\n",
    "    if s== s[::-1]:\n",
    "        return True\n",
    "    else:\n",
    "        return False\n",
    "palindrome(\"mom\")"
   ]
  },
  {
   "cell_type": "code",
   "execution_count": 117,
   "metadata": {},
   "outputs": [
    {
     "name": "stdout",
     "output_type": "stream",
     "text": [
      "Enter the number2020\n"
     ]
    },
    {
     "data": {
      "text/plain": [
       "True"
      ]
     },
     "execution_count": 117,
     "metadata": {},
     "output_type": "execute_result"
    }
   ],
   "source": [
    "# Function to check leap year\n",
    "s=int(input(\"Enter the number\"))\n",
    "def leapyear(s):\n",
    "    if s%400==0 or (s%100!=0 and s%4==0):\n",
    "        return True\n",
    "    else:\n",
    "        return False\n",
    "leapyear(s)"
   ]
  },
  {
   "cell_type": "code",
   "execution_count": 112,
   "metadata": {},
   "outputs": [
    {
     "data": {
      "text/plain": [
       "4"
      ]
     },
     "execution_count": 112,
     "metadata": {},
     "output_type": "execute_result"
    }
   ],
   "source": [
    "#Function to check no of digits\n",
    "def noofdigits(s):\n",
    "    return len(str(s))\n",
    "noofdigits(1223)"
   ]
  },
  {
   "cell_type": "code",
   "execution_count": 113,
   "metadata": {},
   "outputs": [
    {
     "data": {
      "text/plain": [
       "2.4"
      ]
     },
     "execution_count": 113,
     "metadata": {},
     "output_type": "execute_result"
    }
   ],
   "source": [
    "#Function to identify the greatest of 4 numbers\n",
    "def greatest(s1,s2,s3,s4):\n",
    "    if s1>s2 and s1>s3 and s1>s4:\n",
    "        return s1\n",
    "    elif s2>s3 and s2>s4:\n",
    "        return s2\n",
    "    elif s3>s4:\n",
    "        return s3\n",
    "    else:\n",
    "        return s4\n",
    "greatest(2.4,-4,-1,-5)"
   ]
  },
  {
   "cell_type": "code",
   "execution_count": null,
   "metadata": {},
   "outputs": [],
   "source": []
  },
  {
   "cell_type": "markdown",
   "metadata": {},
   "source": [
    "### Iterations\n",
    "\n",
    "- for \n",
    "- while"
   ]
  },
  {
   "cell_type": "code",
   "execution_count": 6,
   "metadata": {},
   "outputs": [
    {
     "name": "stdout",
     "output_type": "stream",
     "text": [
      "20 21 22 23 24 25 26 27 28 29 30 "
     ]
    }
   ],
   "source": [
    "# Function to print n natural numbers\n",
    "\n",
    "def printNatural(n,m):\n",
    "    for i in range(n,m+1):\n",
    "        print(i,end=\" \")\n",
    "    return\n",
    "printNatural(20,30)"
   ]
  },
  {
   "cell_type": "code",
   "execution_count": 3,
   "metadata": {},
   "outputs": [
    {
     "name": "stdout",
     "output_type": "stream",
     "text": [
      "1 2 3 4 5 6 7 8 9 10 1 2 3 4 5 6 7 8 9 10 11 12 13 14 15 16 17 18 19 20 "
     ]
    }
   ],
   "source": [
    "# Function to print N natural numbers\n",
    "\n",
    "def printNatural(n):\n",
    "    i=1\n",
    "    while i<=n:\n",
    "        print(i,end=\" \")\n",
    "        i=i+1\n",
    "    return\n",
    "printNatural(10)\n",
    "printNatural(20)"
   ]
  },
  {
   "cell_type": "code",
   "execution_count": 4,
   "metadata": {},
   "outputs": [
    {
     "name": "stdout",
     "output_type": "stream",
     "text": [
      "30 36 42 48 "
     ]
    }
   ],
   "source": [
    "# Function to print all numbers divisible by 6 and not a factor of 100 in a given range(lb,ub)\n",
    "def divisible(lb,ub):\n",
    "    while lb<=ub:\n",
    "        if lb%6==0 and 100%lb!=0:\n",
    "            print(lb,end=\" \")\n",
    "        lb=lb+1\n",
    "    \n",
    "divisible(30,50)\n"
   ]
  },
  {
   "cell_type": "code",
   "execution_count": null,
   "metadata": {},
   "outputs": [],
   "source": [
    "# Function to find average of cubes of all even numbers in a given range \n",
    "# Function to generate the list of factors for a given range\n",
    "#Function to calculate the factorial of a given number\n",
    "# Function to check if given number is prime or not\n",
    "# function to calculate the average first N prime numbers\n",
    "# Function to generate all perfect numbers in a given range"
   ]
  },
  {
   "cell_type": "code",
   "execution_count": 3,
   "metadata": {},
   "outputs": [
    {
     "data": {
      "text/plain": [
       "8.0"
      ]
     },
     "execution_count": 3,
     "metadata": {},
     "output_type": "execute_result"
    }
   ],
   "source": [
    "#Function to find average of cubes of all even numbers in a given range\n",
    "\n",
    "def average(lb,ub):\n",
    "    sum=0\n",
    "    count=0\n",
    "    while lb<=ub:\n",
    "        if lb%2==0:\n",
    "            res=lb**3\n",
    "            sum=sum+res\n",
    "            count=count+1\n",
    "        lb=lb+1\n",
    "    avg=sum/count\n",
    "    return avg\n",
    "average(1,2)\n",
    "        \n"
   ]
  },
  {
   "cell_type": "code",
   "execution_count": 1,
   "metadata": {},
   "outputs": [
    {
     "name": "stdout",
     "output_type": "stream",
     "text": [
      "1 2 3 4 5 6 8 10 12 15 20 24 30 40 60 120 "
     ]
    }
   ],
   "source": [
    "#Function to find list  of all factors of  a given number\n",
    "def factors(n):\n",
    "    i=1\n",
    "    while i<=n:\n",
    "        if n%i==0:\n",
    "            print(i,end=\" \")\n",
    "        i=i+1\n",
    "factors(120)\n",
    "    "
   ]
  },
  {
   "cell_type": "code",
   "execution_count": 4,
   "metadata": {},
   "outputs": [
    {
     "name": "stdout",
     "output_type": "stream",
     "text": [
      "Enter the number3\n"
     ]
    },
    {
     "data": {
      "text/plain": [
       "6"
      ]
     },
     "execution_count": 4,
     "metadata": {},
     "output_type": "execute_result"
    }
   ],
   "source": [
    "# Function to calculate factorial of a given number\n",
    "n=int(input(\"Enter the number\"))\n",
    "def factorial(n):\n",
    "    fact=1\n",
    "    while(n!=0):\n",
    "        fact=fact*n\n",
    "        n=n-1\n",
    "    return fact\n",
    "    \n",
    "factorial(n)\n",
    "    \n",
    "        \n",
    "        \n",
    "       \n"
   ]
  },
  {
   "cell_type": "code",
   "execution_count": 10,
   "metadata": {},
   "outputs": [
    {
     "name": "stdout",
     "output_type": "stream",
     "text": [
      "Enter a number1\n"
     ]
    },
    {
     "data": {
      "text/plain": [
       "False"
      ]
     },
     "execution_count": 10,
     "metadata": {},
     "output_type": "execute_result"
    }
   ],
   "source": [
    "# Function to check if given number is prime or not\n",
    "n=int(input(\"Enter a number\"))\n",
    "def prime(n):\n",
    "    i=0\n",
    "    count=0\n",
    "    while i!=n:\n",
    "        i=i+1\n",
    "        if n%i==0:\n",
    "            count=count+1\n",
    "    if count==2:\n",
    "        return True\n",
    "    return False\n",
    "prime(n)"
   ]
  },
  {
   "cell_type": "code",
   "execution_count": null,
   "metadata": {},
   "outputs": [],
   "source": [
    "# Function to generate Multiplication table for a num in given range\n",
    "n=int(input(\"Enter the number\" ))\n",
    "lb=int(input(\"Enter lower number\" ))\n",
    "ub=int(input(\"Enter higher number\" ))\n",
    "\n",
    "def multiplication(n,lb,ub):\n",
    "    while lb<=ub:\n",
    "        print(n,\"x\",lb,\"=\",n*lb)\n",
    "        lb=lb+1\n",
    "multiplication(n,lb,ub)\n",
    "    "
   ]
  },
  {
   "cell_type": "code",
   "execution_count": 6,
   "metadata": {},
   "outputs": [
    {
     "data": {
      "text/plain": [
       "8.25"
      ]
     },
     "execution_count": 6,
     "metadata": {},
     "output_type": "execute_result"
    }
   ],
   "source": [
    "# Function to calculate average of all factorials in a given range\n",
    "\n",
    "def avgfactorial(lb,ub):\n",
    "    sum=0\n",
    "    count=0\n",
    "    for n in range(lb,ub+1):\n",
    "        sum=sum+factorial(n)\n",
    "        count+=1\n",
    "    return sum/count\n",
    "avgfactorial(1,4)\n"
   ]
  },
  {
   "cell_type": "code",
   "execution_count": 11,
   "metadata": {},
   "outputs": [
    {
     "name": "stdout",
     "output_type": "stream",
     "text": [
      "15 13 "
     ]
    }
   ],
   "source": [
    "#Function to print all odd numbers reverse order in a given range\n",
    "def reverse(lb,ub):\n",
    "    for i in range(ub,lb-1,-1):\n",
    "        if i%2!=0:\n",
    "            print(i,end=\" \")\n",
    "reverse(12,15)"
   ]
  },
  {
   "cell_type": "code",
   "execution_count": 8,
   "metadata": {},
   "outputs": [
    {
     "data": {
      "text/plain": [
       "3000.0"
      ]
     },
     "execution_count": 8,
     "metadata": {},
     "output_type": "execute_result"
    }
   ],
   "source": [
    "# Function to calculate the average of a given range\n",
    "def isavg(lb,ub):\n",
    "    sum=0\n",
    "    #count=0\n",
    "    for i in range(lb,ub+1):\n",
    "        sum=sum+i\n",
    "        #count=count+1\n",
    "    #return sum/count\n",
    "    return sum/(ub-lb+1)\n",
    "isavg(1000,5000)\n",
    "        "
   ]
  },
  {
   "cell_type": "code",
   "execution_count": 5,
   "metadata": {},
   "outputs": [
    {
     "name": "stdout",
     "output_type": "stream",
     "text": [
      "Enetr start year2000\n",
      "Enetr start year2020\n",
      "2000\n",
      "2004\n",
      "2008\n",
      "2012\n",
      "2016\n",
      "2020\n"
     ]
    }
   ],
   "source": [
    "# Function to generate the leap year in a given time period\n",
    "lb=int(input(\"Enetr start year\"))\n",
    "ub=int(input(\"Enetr start year\"))\n",
    "def generateleapyear(lb,ub):\n",
    "    for lb in range(lb,ub+1):\n",
    "        if lb%400==0 or (lb%100!=0 and lb%4==0):\n",
    "            print(lb)\n",
    "        lb=lb+1\n",
    "generateleapyear(lb,ub)"
   ]
  },
  {
   "cell_type": "code",
   "execution_count": 15,
   "metadata": {},
   "outputs": [
    {
     "name": "stdout",
     "output_type": "stream",
     "text": [
      "Enetr start year2000\n",
      "Enetr start year2020\n",
      "2000 2004 2008 2012 2016 2020 "
     ]
    }
   ],
   "source": [
    "# Function to generate the leap year in a given time period\n",
    "startyear=int(input(\"Enetr start year\"))\n",
    "endyear=int(input(\"Enetr start year\"))\n",
    "def isleap(year):\n",
    "    if year%400==0 or (year%100!=0 and year%4==0):\n",
    "        return True\n",
    "    return False\n",
    "def generateleapyear(startyear,endyear):\n",
    "    for year in range(startyear,endyear+1):\n",
    "        if isleap(year):\n",
    "            print(year,end=\" \")\n",
    "    return\n",
    "generateleapyear(startyear,endyear)"
   ]
  },
  {
   "cell_type": "code",
   "execution_count": 20,
   "metadata": {},
   "outputs": [
    {
     "data": {
      "text/plain": [
       "731"
      ]
     },
     "execution_count": 20,
     "metadata": {},
     "output_type": "execute_result"
    }
   ],
   "source": [
    "# Function to calculate no of days in a given time period using leap year\n",
    "def calnoofdays(lb,ub):\n",
    "    sum=0\n",
    "    for lb in range(lb,ub+1):\n",
    "        if isleap(lb):\n",
    "            sum=sum+366\n",
    "        else:\n",
    "            sum=sum+365\n",
    "    return sum\n",
    "calnoofdays(2000,2001)\n",
    "            "
   ]
  },
  {
   "cell_type": "code",
   "execution_count": 6,
   "metadata": {},
   "outputs": [
    {
     "data": {
      "text/plain": [
       "205248"
      ]
     },
     "execution_count": 6,
     "metadata": {},
     "output_type": "execute_result"
    }
   ],
   "source": [
    "#Function to calculate number of hours for a given period including months(11,1975:3,1999)\n",
    "def isleap(year):\n",
    "    if year%400==0 or (year%100!=0 and year%4==0):\n",
    "        return True\n",
    "    return False\n",
    "def calnoofdays(lb,ub):\n",
    "    sum=0\n",
    "    for lb in range(lb,ub+1):\n",
    "        if isleap(lb):\n",
    "            sum=sum+366\n",
    "        else:\n",
    "            sum=sum+365\n",
    "    return sum\n",
    "def numberofdaysmonth(month,year):\n",
    "    if month==2:\n",
    "        if isleap(year):\n",
    "            return 29\n",
    "        return 28\n",
    "    elif (month<=7 and month%2!=0) or (month>=8 and month%2==0):\n",
    "        return 31\n",
    "    else:\n",
    "        return 30\n",
    "def daysinstartyear(startmonth,startyear):\n",
    "    days=0\n",
    "    for month in range(startmonth,13):\n",
    "        days+=numberofdaysmonth(month,startyear)\n",
    "    return days\n",
    "def daysinendyear(endmonth,endyear):\n",
    "    days=0\n",
    "    for month in range(1,endmonth+1):\n",
    "        days=days+numberofdaysmonth(month,endyear)\n",
    "    return days\n",
    "def numberhours(startmonth,startyear,endmonth,endyear):\n",
    "    days=0\n",
    "    days +=daysinstartyear(startmonth,startyear)\n",
    "    days +=daysinendyear(endmonth,endyear)\n",
    "    if endyear-startyear==2:\n",
    "        days +=calnoofdays(startyear+1,startyear+1)\n",
    "    elif endyear-startyear>2:\n",
    "        days+=calnoofdays(startyear+1,endyear-1)\n",
    "    return 24*days\n",
    "\n",
    "\n",
    "numberhours(11,1975,3,1999)\n",
    "            "
   ]
  },
  {
   "cell_type": "code",
   "execution_count": 2,
   "metadata": {},
   "outputs": [
    {
     "data": {
      "text/plain": [
       "True"
      ]
     },
     "execution_count": 2,
     "metadata": {},
     "output_type": "execute_result"
    }
   ],
   "source": [
    "def arm(n):\n",
    "    res=n\n",
    "    s=0\n",
    "    while(res!=0):\n",
    "        r=res\n",
    "        r=r%10\n",
    "        s=s+r**3\n",
    "        res=res//10\n",
    "    if(n==s):\n",
    "        return True\n",
    "    return False\n",
    "arm(153)"
   ]
  },
  {
   "cell_type": "code",
   "execution_count": 1,
   "metadata": {},
   "outputs": [
    {
     "name": "stdout",
     "output_type": "stream",
     "text": [
      "1\n",
      "153\n",
      "370\n"
     ]
    }
   ],
   "source": [
    "def arm(n):\n",
    "    res=n\n",
    "    s=0\n",
    "    while(res!=0):\n",
    "        r=res\n",
    "        r=r%10\n",
    "        s=s+r**3\n",
    "        res=res//10\n",
    "    if(n==s):\n",
    "        return True\n",
    "    return False\n",
    "def Narm(n):\n",
    "    count=1\n",
    "    while(n!=0):\n",
    "        if arm(count):\n",
    "            print(count)\n",
    "            n-=1\n",
    "        count+=1\n",
    "Narm(3)"
   ]
  },
  {
   "cell_type": "code",
   "execution_count": 26,
   "metadata": {},
   "outputs": [
    {
     "name": "stdout",
     "output_type": "stream",
     "text": [
      "2\n",
      "3\n"
     ]
    },
    {
     "data": {
      "text/plain": [
       "2.5"
      ]
     },
     "execution_count": 26,
     "metadata": {},
     "output_type": "execute_result"
    }
   ],
   "source": [
    "# function to calculate the average first N prime numbers\n",
    "def nprimenum(n):\n",
    "    count=1\n",
    "    res=n\n",
    "    sum=0\n",
    "    while(n!=0):\n",
    "        if prime(count):\n",
    "            print(count)\n",
    "            sum=sum+count\n",
    "            n=n-1\n",
    "        count=count+1\n",
    "    return sum/res\n",
    "nprimenum(2)\n",
    "    "
   ]
  },
  {
   "cell_type": "code",
   "execution_count": 13,
   "metadata": {},
   "outputs": [
    {
     "name": "stdout",
     "output_type": "stream",
     "text": [
      "1 1 1 2 1 1 2 3 1 1 2 4 1 3 1 2 5 "
     ]
    }
   ],
   "source": [
    "# Function to generate all perfect numbers in a given range\n",
    "def perfectnum(n):\n",
    "    i=1\n",
    "    r=0\n",
    "    while i<n:\n",
    "        if n%i==0:\n",
    "            print(i,end=\" \")\n",
    "        i=i+1\n",
    "    if n==i:\n",
    "        return True\n",
    "    return False\n",
    "\n",
    "def allperfectnum(lb,ub):\n",
    "    sum=0\n",
    "    count=0\n",
    "    for n in range(lb,ub+1):\n",
    "        perfectnum(n)\n",
    "    \n",
    "        \n",
    "allperfectnum(1,10)\n",
    "        "
   ]
  },
  {
   "cell_type": "code",
   "execution_count": 7,
   "metadata": {},
   "outputs": [
    {
     "name": "stdout",
     "output_type": "stream",
     "text": [
      "10 9 8 7 6 5 4 3 2 1 "
     ]
    }
   ],
   "source": [
    "# Function to print numbers in reverse order in a given range\n",
    "def reverse(lb,ub):\n",
    "    for i in range(ub,lb-1,-1):\n",
    "        print(i,end=\" \")\n",
    "    return\n",
    "reverse(1,10)\n",
    "        "
   ]
  },
  {
   "cell_type": "code",
   "execution_count": 12,
   "metadata": {},
   "outputs": [
    {
     "name": "stdout",
     "output_type": "stream",
     "text": [
      "9 7 5 3 1 "
     ]
    }
   ],
   "source": [
    "# Function tom print odd num in reverse order in agiven rnage\n",
    "def reverseodd(lb,ub):\n",
    "    for i in range(ub,lb-1,-1):\n",
    "        if i%2!=0:\n",
    "            print(i,end=\" \")\n",
    "    return\n",
    "reverse(1,10)"
   ]
  },
  {
   "cell_type": "code",
   "execution_count": null,
   "metadata": {},
   "outputs": [],
   "source": []
  }
 ],
 "metadata": {
  "kernelspec": {
   "display_name": "Python 3",
   "language": "python",
   "name": "python3"
  },
  "language_info": {
   "codemirror_mode": {
    "name": "ipython",
    "version": 3
   },
   "file_extension": ".py",
   "mimetype": "text/x-python",
   "name": "python",
   "nbconvert_exporter": "python",
   "pygments_lexer": "ipython3",
   "version": "3.7.3"
  }
 },
 "nbformat": 4,
 "nbformat_minor": 2
}
