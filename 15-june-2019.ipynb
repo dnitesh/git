{
 "cells": [
  {
   "cell_type": "markdown",
   "metadata": {},
   "source": [
    "### Day Objectives\n",
    "\n",
    "### Basic Problem Set on Hackerearth ( Basic I / O category)\n",
    "- Count Divisors\n",
    "- Factorial\n",
    "- Toggle String\n",
    "- Palindrome\n",
    "- Prime Numbers\n",
    "- Two Strings\n",
    "- Duration\n",
    "- Char Sum\n",
    "- Play with Numbers"
   ]
  },
  {
   "cell_type": "code",
   "execution_count": null,
   "metadata": {},
   "outputs": [],
   "source": [
    "def countdivisors(l,r,k):\n",
    "    count=0\n",
    "    while(l<=r):\n",
    "        if l%k==0:\n",
    "            count=count+1\n",
    "        l=l+1\n",
    "    print(count)\n",
    "s=input()\n",
    "s=s.split()\n",
    "l=int(s[0])\n",
    "r=int(s[1])\n",
    "k=int(s[2])\n",
    "countdivisors(l,r,k)"
   ]
  },
  {
   "cell_type": "code",
   "execution_count": null,
   "metadata": {},
   "outputs": [],
   "source": [
    "n=int(input())\n",
    "def factorial(n):\n",
    "    fact=1\n",
    "    while(n!=0):\n",
    "        fact=fact*n\n",
    "        n=n-1\n",
    "    print(fact)\n",
    "factorial(n)"
   ]
  },
  {
   "cell_type": "code",
   "execution_count": null,
   "metadata": {},
   "outputs": [],
   "source": [
    "def upperlower(s):\n",
    "    print(s.swapcase())\n",
    "s=input()\n",
    "upperlower(s)\n",
    "    "
   ]
  },
  {
   "cell_type": "code",
   "execution_count": 20,
   "metadata": {},
   "outputs": [
    {
     "name": "stdout",
     "output_type": "stream",
     "text": [
      "deVI\n",
      "DEvi\n"
     ]
    }
   ],
   "source": [
    "def togglestring(s):\n",
    "    #s=list(s) #convert the string into list of characters\n",
    "    t=\"\"\n",
    "    #t=[]\n",
    "    for c in s:\n",
    "        if c.islower():\n",
    "            #t.append(c.upper())\n",
    "            t+=c.upper()\n",
    "        else:\n",
    "            t+=c.lower()\n",
    "            #t.append(c.lower())\n",
    "    print(t)\n",
    "    #return \"\".join(t)        \n",
    "s=input()\n",
    "togglestring(s)\n",
    "    "
   ]
  },
  {
   "cell_type": "code",
   "execution_count": null,
   "metadata": {},
   "outputs": [],
   "source": [
    "s=input()\n",
    "def revese(s):\n",
    "    if s[::-1]==s:\n",
    "        print(\"YES\")\n",
    "    else:\n",
    "        print(\"NO\")\n",
    "revese(s)"
   ]
  },
  {
   "cell_type": "code",
   "execution_count": 1,
   "metadata": {},
   "outputs": [
    {
     "name": "stdout",
     "output_type": "stream",
     "text": [
      "9\n",
      "2 3 5 7 "
     ]
    }
   ],
   "source": [
    "def primenum(n):\n",
    "    count=0\n",
    "    i=0\n",
    "    while(i!=n):\n",
    "        i=i+1\n",
    "        if n%i==0:\n",
    "            count=count+1\n",
    "    if count==2:\n",
    "        return True\n",
    "    else:\n",
    "        return False\n",
    "        \n",
    "def generationprime(a):\n",
    "    for i in range(1,a+1):\n",
    "        if primenum(i)==True:\n",
    "            print(i,end=\" \")\n",
    "a=int(input())\n",
    "generationprime(a)\n",
    "        "
   ]
  },
  {
   "cell_type": "code",
   "execution_count": null,
   "metadata": {},
   "outputs": [],
   "source": [
    "def charsum(s):\n",
    "    sum=0\n",
    "    for i in s:\n",
    "        n=ord(i)-96\n",
    "        sum=sum+n\n",
    "    print(sum)\n",
    "s=input()\n",
    "charsum(s)"
   ]
  },
  {
   "cell_type": "code",
   "execution_count": null,
   "metadata": {},
   "outputs": [],
   "source": []
  }
 ],
 "metadata": {
  "kernelspec": {
   "display_name": "Python 3",
   "language": "python",
   "name": "python3"
  },
  "language_info": {
   "codemirror_mode": {
    "name": "ipython",
    "version": 3
   },
   "file_extension": ".py",
   "mimetype": "text/x-python",
   "name": "python",
   "nbconvert_exporter": "python",
   "pygments_lexer": "ipython3",
   "version": "3.7.3"
  }
 },
 "nbformat": 4,
 "nbformat_minor": 2
}
