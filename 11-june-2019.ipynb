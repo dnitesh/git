{
 "cells": [
  {
   "cell_type": "markdown",
   "metadata": {},
   "source": [
    "### Markdown Basics\n",
    "\n",
    "* **Bold**\n",
    "* *Italic* \n",
    "* ***BI***\n",
    "* ~~Devi~~\n",
    "* Normal Text\n",
    "  * Sublist 1\n",
    "  * Sublist 2\n",
    "  \n",
    "  \n",
    "> 1. Ordered List 1\n",
    "> 2. Ordered List 2\n",
    "\n",
    "\n",
    "- []Option 1\n",
    "- []Option 2\n",
    "- [x]Option 3\n",
    "\n",
    "I get 10 times more traffic from [Google] [1] than from\n",
    "[Yahoo] [2] or [MSN] [3].\n",
    "\n",
    "  [1]: http://google.com/        \"Google\"\n",
    "  [2]: http://search.yahoo.com/  \"Yahoo Search\"\n",
    "  [3]: http://search.msn.com/    \"MSN Search\"\n",
    "\n",
    "`printf(\"Hello Devi\")`\n",
    "\n",
    "<https://google.com>\n",
    "\n",
    "\n",
    "\n",
    "[Jupyter Logo](JupyterLogo.png)\n",
    "\n",
    "![Jupyter Logo](JupyterLogo.png)\n",
    "<img src=\"Jupyterlogo.png\"  align=\"left\" height=\"300\" width=\"300\"  >\n",
    "<img src=\"JupyterLogo.png\" style=\"float:right\">"
   ]
  },
  {
   "cell_type": "code",
   "execution_count": null,
   "metadata": {},
   "outputs": [],
   "source": []
  },
  {
   "cell_type": "markdown",
   "metadata": {},
   "source": [
    "### Python Basics\n",
    "\n",
    "python version3.7\n",
    "- Scripting\n",
    "- Object Oriented\n",
    "- Functional"
   ]
  },
  {
   "cell_type": "code",
   "execution_count": 19,
   "metadata": {},
   "outputs": [
    {
     "name": "stdout",
     "output_type": "stream",
     "text": [
      "Good Afternoon ! Hello Python\n"
     ]
    }
   ],
   "source": [
    "# Python Comments\n",
    "\n",
    "\n",
    "print(\"Good Afternoon\",\"!\", end=\" \")# Basic output\n",
    "print(\"Hello Python\")"
   ]
  },
  {
   "cell_type": "code",
   "execution_count": null,
   "metadata": {},
   "outputs": [],
   "source": []
  },
  {
   "cell_type": "markdown",
   "metadata": {},
   "source": [
    "### Assignment"
   ]
  },
  {
   "cell_type": "code",
   "execution_count": 9,
   "metadata": {},
   "outputs": [
    {
     "name": "stdout",
     "output_type": "stream",
     "text": [
      "123 234 345\n"
     ]
    }
   ],
   "source": [
    "n1=123456 #Single Variable Assignment\n",
    "\n",
    "n2=n3=n4=n1 #Multi Variable Assignment of the same value \n",
    "\n",
    "a,b,c=123,234,345 #Multi Variable Assignment with different values\n",
    "\n",
    "print(a,b,c)"
   ]
  },
  {
   "cell_type": "code",
   "execution_count": null,
   "metadata": {},
   "outputs": [],
   "source": []
  },
  {
   "cell_type": "markdown",
   "metadata": {},
   "source": [
    "### Data Types & Conversions\n",
    "- int\n",
    "- float\n",
    "- string"
   ]
  },
  {
   "cell_type": "code",
   "execution_count": 14,
   "metadata": {},
   "outputs": [
    {
     "data": {
      "text/plain": [
       "12.0"
      ]
     },
     "execution_count": 14,
     "metadata": {},
     "output_type": "execute_result"
    }
   ],
   "source": [
    "type(a)\n",
    "\n",
    "s1=\"Devi\"\n",
    "\n",
    "type(s1)\n",
    "\n",
    "f1=12.345\n",
    "type(f1)\n",
    "\n",
    "float(str(int(f1)))\n"
   ]
  },
  {
   "cell_type": "markdown",
   "metadata": {},
   "source": [
    "### Arithmetic Operations\n",
    "- +\n",
    "- -\n",
    "- *\n",
    "- /\n",
    "- **\n",
    "- %\n"
   ]
  },
  {
   "cell_type": "code",
   "execution_count": 4,
   "metadata": {},
   "outputs": [
    {
     "data": {
      "text/plain": [
       "str"
      ]
     },
     "execution_count": 4,
     "metadata": {},
     "output_type": "execute_result"
    }
   ],
   "source": [
    "atoms=10**82\n",
    "\n",
    "len(str(atoms))\n",
    "type(str(atoms))"
   ]
  },
  {
   "cell_type": "code",
   "execution_count": null,
   "metadata": {},
   "outputs": [],
   "source": []
  },
  {
   "cell_type": "markdown",
   "metadata": {},
   "source": [
    "### Conditionals\n",
    "\n"
   ]
  },
  {
   "cell_type": "code",
   "execution_count": 20,
   "metadata": {},
   "outputs": [
    {
     "name": "stdout",
     "output_type": "stream",
     "text": [
      "FALSE\n"
     ]
    }
   ],
   "source": [
    "if atoms < 10 ** 9:\n",
    "    print(\"TRUE\")\n",
    "else:\n",
    "    print(\"FALSE\")\n",
    "\n",
    "\n",
    "\n"
   ]
  },
  {
   "cell_type": "code",
   "execution_count": 21,
   "metadata": {},
   "outputs": [
    {
     "name": "stdout",
     "output_type": "stream",
     "text": [
      "Odd\n"
     ]
    }
   ],
   "source": [
    "#Check If a number is Even\n",
    "n=123\n",
    "if n%2==0:\n",
    "    print(\"Even\")\n",
    "else:\n",
    "    print(\"Odd\")\n"
   ]
  },
  {
   "cell_type": "code",
   "execution_count": 4,
   "metadata": {},
   "outputs": [
    {
     "name": "stdout",
     "output_type": "stream",
     "text": [
      "Enter First number-1\n",
      "Enter second number-100\n",
      "Enter third number-50\n",
      "-1 is greatest\n"
     ]
    }
   ],
   "source": [
    "## Find Greatest of three numbers\n",
    "\n",
    "n1=int(input(\"Enter First number\"))\n",
    "n2=int(input(\"Enter second number\"))\n",
    "n3=int(input(\"Enter third number\"))\n",
    "if n1>n2 and n1>n3:\n",
    "    print(n1,\"is greatest\")\n",
    "elif n2>n1 and n2>n3:\n",
    "    print(n2,\"is greatest\")\n",
    "else:\n",
    "    print(n3,\"is greatest\")"
   ]
  },
  {
   "cell_type": "code",
   "execution_count": 6,
   "metadata": {},
   "outputs": [
    {
     "name": "stdout",
     "output_type": "stream",
     "text": [
      "Enter the year2010\n",
      "2010 not a leap year\n"
     ]
    }
   ],
   "source": [
    " # check leap or not\n",
    "\n",
    "n1=int(input(\"Enter the year\"))\n",
    "if n1%400==0 or (n1%100!=0 and n1%4==0):\n",
    "    print(n1,\"is leap year\")\n",
    "else:\n",
    "    print(n1,\"not a leap year\")"
   ]
  },
  {
   "cell_type": "code",
   "execution_count": 2,
   "metadata": {},
   "outputs": [
    {
     "name": "stdout",
     "output_type": "stream",
     "text": [
      "Enter number12\n",
      "Enter the lower range10\n",
      "Enter the upper range13\n",
      "Number is in range\n"
     ]
    }
   ],
   "source": [
    "# check if a number exits in a given range\n",
    "n=int(input(\"Enter number\"))\n",
    "lb=int(input(\"Enter the lower range\"))\n",
    "ub=int(input(\"Enter the upper range\"))\n",
    "if n>=lb and n<=ub:\n",
    "    print(\"Number is in range\")\n",
    "else:\n",
    "    print(\"number out of the range\")"
   ]
  },
  {
   "cell_type": "code",
   "execution_count": 5,
   "metadata": {},
   "outputs": [
    {
     "name": "stdout",
     "output_type": "stream",
     "text": [
      "Enter number0\n"
     ]
    },
    {
     "data": {
      "text/plain": [
       "1"
      ]
     },
     "execution_count": 5,
     "metadata": {},
     "output_type": "execute_result"
    }
   ],
   "source": [
    "# calculate no of digits in a number\n",
    "\n",
    "n=int(input(\"Enter number\"))\n",
    "len(str(n))"
   ]
  },
  {
   "cell_type": "code",
   "execution_count": 18,
   "metadata": {},
   "outputs": [
    {
     "name": "stdout",
     "output_type": "stream",
     "text": [
      "Enter the number2\n",
      "2 is factor\n"
     ]
    }
   ],
   "source": [
    "#Check if a number is a factor of 1000\n",
    "n=int(input(\"Enter the number\"))\n",
    "if 1000%n==0:\n",
    "    print(n,\"is factor\")\n",
    "else:\n",
    "    print(n,\"is not a factor\")\n",
    "\n"
   ]
  },
  {
   "cell_type": "code",
   "execution_count": 4,
   "metadata": {},
   "outputs": [
    {
     "name": "stdout",
     "output_type": "stream",
     "text": [
      "Equal\n"
     ]
    }
   ],
   "source": [
    "# check if given string is equal to a number\n",
    "n1=\"1234\"\n",
    "n2=1234\n",
    "if str(n2)==n1:\n",
    "    print(\"Equal\")\n",
    "else:\n",
    "    print(\"Not equal\")"
   ]
  },
  {
   "cell_type": "code",
   "execution_count": 3,
   "metadata": {},
   "outputs": [
    {
     "name": "stdout",
     "output_type": "stream",
     "text": [
      "Enter the number4\n"
     ]
    },
    {
     "data": {
      "text/plain": [
       "2.0"
      ]
     },
     "execution_count": 3,
     "metadata": {},
     "output_type": "execute_result"
    }
   ],
   "source": [
    "## Calculate the square root of a number without function\n",
    "\n",
    "n1=int(input(\"Enter the number\"))\n",
    "n1**0.5"
   ]
  },
  {
   "cell_type": "code",
   "execution_count": 28,
   "metadata": {},
   "outputs": [
    {
     "name": "stdout",
     "output_type": "stream",
     "text": [
      "Enter the number10\n",
      "10 is not multiple of 10\n"
     ]
    }
   ],
   "source": [
    "# Check if a number is multiple of 10\n",
    "\n",
    "n1=int(input(\"Enter the number\"))\n",
    "if n1%10\n",
    "    print(n1,\"is multiple of 10\")\n",
    "else:\n",
    "    print(n1,\"is not multiple of 10\")"
   ]
  },
  {
   "cell_type": "code",
   "execution_count": 31,
   "metadata": {},
   "outputs": [
    {
     "name": "stdout",
     "output_type": "stream",
     "text": [
      "Enter the year2016\n",
      "2846016000\n"
     ]
    }
   ],
   "source": [
    "# Calculate micro seconds of given year\n",
    "n1=int(input(\"Enter the year\"))\n",
    "if n1%400==0 or (n1%100!=0 and n1%4==0):\n",
    "    print(366*24*60*60*(10*9))\n",
    "else:\n",
    "    print(365*24*60*60*(10*9))"
   ]
  },
  {
   "cell_type": "code",
   "execution_count": null,
   "metadata": {},
   "outputs": [],
   "source": []
  }
 ],
 "metadata": {
  "kernelspec": {
   "display_name": "Python 3",
   "language": "python",
   "name": "python3"
  },
  "language_info": {
   "codemirror_mode": {
    "name": "ipython",
    "version": 3
   },
   "file_extension": ".py",
   "mimetype": "text/x-python",
   "name": "python",
   "nbconvert_exporter": "python",
   "pygments_lexer": "ipython3",
   "version": "3.7.3"
  }
 },
 "nbformat": 4,
 "nbformat_minor": 2
}
